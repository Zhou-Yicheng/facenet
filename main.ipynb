{
 "cells": [
  {
   "cell_type": "code",
   "execution_count": null,
   "metadata": {},
   "outputs": [],
   "source": [
    "from IPython.display import display, Image\n",
    "\n",
    "import time\n",
    "\n",
    "import cv2\n",
    "\n",
    "import face"
   ]
  },
  {
   "cell_type": "code",
   "execution_count": null,
   "metadata": {},
   "outputs": [],
   "source": [
    "def add_overlays(frame, faces, fps):\n",
    "    if faces is not None:\n",
    "        for face in faces:\n",
    "            face_bb = face.bounding_box.astype(int)\n",
    "            cv2.rectangle(frame,\n",
    "                          (face_bb[0], face_bb[1]), (face_bb[2], face_bb[3]),\n",
    "                          (0, 255, 0), 2)\n",
    "            if face.name is not None:\n",
    "                cv2.putText(frame, face.name, (face_bb[0], face_bb[3]),\n",
    "                            cv2.FONT_HERSHEY_SIMPLEX, 1, (0, 255, 0),\n",
    "                            thickness=2, lineType=2)\n",
    "\n",
    "    cv2.putText(frame, \"Fps: %.2f\" % fps, (10, 30),\n",
    "                cv2.FONT_HERSHEY_SIMPLEX, 1, (0, 255, 0),\n",
    "                thickness=2, lineType=2)"
   ]
  },
  {
   "cell_type": "code",
   "execution_count": null,
   "metadata": {},
   "outputs": [],
   "source": [
    "video_capture = cv2.VideoCapture(0)\n",
    "video_capture.isOpened()"
   ]
  },
  {
   "cell_type": "code",
   "execution_count": null,
   "metadata": {},
   "outputs": [],
   "source": [
    "face_recognition = face.Recognition()\n",
    "handle = display(None, display_id=True)"
   ]
  },
  {
   "cell_type": "code",
   "execution_count": null,
   "metadata": {},
   "outputs": [],
   "source": [
    "while True:\n",
    "    ret, frame = video_capture.read()\n",
    "    if not ret:\n",
    "        print(\"Can't receive frame (stream end?). Exiting ...\")\n",
    "        video_capture.release()\n",
    "        break\n",
    "\n",
    "    start = time.time()\n",
    "    faces = face_recognition.identify(frame)\n",
    "    fps = 1.0 / (time.time() - start)\n",
    "\n",
    "    add_overlays(frame, faces, fps)\n",
    "\n",
    "    handle.update(Image(data=cv2.imencode(\".jpeg\", frame)[1].tobytes()))\n"
   ]
  }
 ],
 "metadata": {
  "kernelspec": {
   "display_name": "Python 3",
   "language": "python",
   "name": "python3"
  },
  "language_info": {
   "codemirror_mode": {
    "name": "ipython",
    "version": 3
   },
   "file_extension": ".py",
   "mimetype": "text/x-python",
   "name": "python",
   "nbconvert_exporter": "python",
   "pygments_lexer": "ipython3",
   "version": "3.6.9"
  }
 },
 "nbformat": 4,
 "nbformat_minor": 2
}
